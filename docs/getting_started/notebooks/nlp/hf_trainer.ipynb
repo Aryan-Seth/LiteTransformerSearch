{
 "cells": [
  {
   "attachments": {},
   "cell_type": "markdown",
   "metadata": {},
   "source": [
    "# Training NLP-based Models with Hugging Face\n",
    "\n",
    "In this notebook, we will explore the training of an NLP-based model using pre-defined architectures from `huggingface/transformers`.\n",
    "\n",
    "Archai implements abstract base classes that defines the expected behavior of some classes, such as datasets (`DatasetProvider`) and trainers (`TrainerBase`). Additionally, we offer boilerplate classes for the most common frameworks, such as a `DatasetProvider` compatible with `huggingface/datasets` and a `TrainerBase` compatible with `huggingface/transformers`."
   ]
  },
  {
   "attachments": {},
   "cell_type": "markdown",
   "metadata": {},
   "source": [
    "## Loading and Encoding the Data"
   ]
  },
  {
   "cell_type": "code",
   "execution_count": null,
   "metadata": {},
   "outputs": [],
   "source": [
    "from transformers import AutoTokenizer, DataCollatorForLanguageModeling\n",
    "from archai.datasets.nlp.hf_dataset_provider import HfHubDatasetProvider\n",
    "from archai.datasets.nlp.hf_dataset_provider_utils import tokenize_dataset\n",
    "\n",
    "tokenizer = AutoTokenizer.from_pretrained(\"Salesforce/codegen-350M-mono\", model_max_length=1024)\n",
    "tokenizer.pad_token = tokenizer.eos_token\n",
    "\n",
    "collator = DataCollatorForLanguageModeling(tokenizer=tokenizer, mlm=False)\n",
    "dataset_provider = HfHubDatasetProvider(dataset=\"wikitext\", subset=\"wikitext-103-raw-v1\")\n",
    "\n",
    "train_dataset = dataset_provider.get_train_dataset()\n",
    "eval_dataset = dataset_provider.get_val_dataset()\n",
    "\n",
    "encoded_train_dataset = train_dataset.map(tokenize_dataset, batched=True, fn_kwargs={\"tokenizer\": tokenizer})\n",
    "encoded_eval_dataset = eval_dataset.map(tokenize_dataset, batched=True, fn_kwargs={\"tokenizer\": tokenizer})"
   ]
  },
  {
   "attachments": {},
   "cell_type": "markdown",
   "metadata": {},
   "source": [
    "## Defining the Model"
   ]
  },
  {
   "cell_type": "code",
   "execution_count": null,
   "metadata": {},
   "outputs": [],
   "source": [
    "from transformers import CodeGenConfig, CodeGenForCausalLM\n",
    "\n",
    "config = CodeGenConfig(\n",
    "    n_positions=1024,\n",
    "    n_embd=768,\n",
    "    n_layer=12,\n",
    "    n_head=12,\n",
    "    rotary_dim=16,\n",
    "    bos_token_id=0,\n",
    "    eos_token_id=0,\n",
    "    vocab_size=50295,\n",
    ")\n",
    "model = CodeGenForCausalLM(config=config)"
   ]
  },
  {
   "attachments": {},
   "cell_type": "markdown",
   "metadata": {},
   "source": [
    "## Running the Trainer"
   ]
  },
  {
   "cell_type": "code",
   "execution_count": null,
   "metadata": {},
   "outputs": [],
   "source": [
    "from archai.trainers.nlp.nvidia_trainer import NvidiaTrainer\n",
    "from archai.trainers.nlp.nvidia_training_args import NvidiaTrainingArguments\n",
    "\n",
    "training_args = NvidiaTrainingArguments(\n",
    "    \"nvidia-gpt2\",\n",
    "    seed=args.seed,\n",
    "    no_cuda=args.no_cuda,\n",
    "    logging_steps=args.logging_steps,\n",
    "    eval_steps=args.eval_steps,\n",
    "    dataset_name=args.dataset_name,\n",
    "    vocab_type=args.vocab_type,\n",
    "    vocab_size=args.vocab_size,\n",
    "    global_batch_size=args.global_batch_size,\n",
    "    seq_len=args.seq_len,\n",
    "    strategy=args.strategy,\n",
    "    max_steps=args.max_steps,\n",
    "    gradient_accumulation_steps=args.gradient_accumulation_steps,\n",
    "    optim=args.optim,\n",
    ")\n",
    "trainer = NvidiaTrainer(model=model, args=training_args)\n",
    "\n",
    "trainer.train()"
   ]
  }
 ],
 "metadata": {
  "kernelspec": {
   "display_name": "archai",
   "language": "python",
   "name": "python3"
  },
  "language_info": {
   "name": "python",
   "version": "3.7.16 (default, Jan 17 2023, 16:06:28) [MSC v.1916 64 bit (AMD64)]"
  },
  "orig_nbformat": 4,
  "vscode": {
   "interpreter": {
    "hash": "b2be478cf8a2d9a6a1293b022e8589530f7ec0d0340a3a36da6068ef3d344086"
   }
  }
 },
 "nbformat": 4,
 "nbformat_minor": 2
}
