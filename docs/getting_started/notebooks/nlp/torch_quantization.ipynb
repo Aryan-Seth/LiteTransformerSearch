{
 "cells": [
  {
   "attachments": {},
   "cell_type": "markdown",
   "metadata": {},
   "source": [
    "# Quantizing Models with PyTorch"
   ]
  },
  {
   "attachments": {},
   "cell_type": "markdown",
   "metadata": {},
   "source": [
    "## Loading the Model"
   ]
  },
  {
   "cell_type": "code",
   "execution_count": null,
   "metadata": {},
   "outputs": [],
   "source": [
    "from transformers import GPT2LMHeadModel\n",
    "\n",
    "model = GPT2LMHeadModel.from_pretrained(\"gpt2\")"
   ]
  },
  {
   "attachments": {},
   "cell_type": "markdown",
   "metadata": {},
   "source": [
    "## Post-Training Quantization (PTQ)"
   ]
  },
  {
   "cell_type": "code",
   "execution_count": null,
   "metadata": {},
   "outputs": [],
   "source": [
    "import torch\n",
    "from archai.quantization.ptq import dynamic_quantization_torch\n",
    "\n",
    "torch.set_num_threads(1)\n",
    "model_qnt = dynamic_quantization_torch(model)"
   ]
  },
  {
   "attachments": {},
   "cell_type": "markdown",
   "metadata": {},
   "source": [
    "## Comparing Default and Quantized Models"
   ]
  },
  {
   "cell_type": "code",
   "execution_count": null,
   "metadata": {},
   "outputs": [],
   "source": [
    "from archai.common.file_utils import calculate_torch_model_size\n",
    "\n",
    "print(f\"Model: {calculate_torch_model_size(model)}MB\")\n",
    "print(f\"Model-QNT: {calculate_torch_model_size(model_qnt)}MB\")\n",
    "\n",
    "inputs = {\"input_ids\": torch.randint(1, 10, (1, 192))}\n",
    "logits = model(**inputs).logits\n",
    "logits_qnt = model_qnt(**inputs).logits\n",
    "\n",
    "print(f\"Difference between logits: {logits_qnt - logits}\")"
   ]
  }
 ],
 "metadata": {
  "kernelspec": {
   "display_name": "archai",
   "language": "python",
   "name": "python3"
  },
  "language_info": {
   "name": "python",
   "version": "3.7.16 (default, Jan 17 2023, 16:06:28) [MSC v.1916 64 bit (AMD64)]"
  },
  "orig_nbformat": 4,
  "vscode": {
   "interpreter": {
    "hash": "b2be478cf8a2d9a6a1293b022e8589530f7ec0d0340a3a36da6068ef3d344086"
   }
  }
 },
 "nbformat": 4,
 "nbformat_minor": 2
}
