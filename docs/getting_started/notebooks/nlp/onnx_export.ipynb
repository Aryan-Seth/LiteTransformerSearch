{
 "cells": [
  {
   "attachments": {},
   "cell_type": "markdown",
   "metadata": {},
   "source": [
    "# Exporting Models to ONNX"
   ]
  },
  {
   "attachments": {},
   "cell_type": "markdown",
   "metadata": {},
   "source": [
    "## Loading the Model"
   ]
  },
  {
   "cell_type": "code",
   "execution_count": null,
   "metadata": {},
   "outputs": [],
   "source": [
    "from transformers import GPT2LMHeadModel\n",
    "\n",
    "model = GPT2LMHeadModel.from_pretrained(\"gpt2\")"
   ]
  },
  {
   "attachments": {},
   "cell_type": "markdown",
   "metadata": {},
   "source": [
    "## Exporting to ONNX"
   ]
  },
  {
   "cell_type": "code",
   "execution_count": null,
   "metadata": {},
   "outputs": [],
   "source": [
    "from archai.common.file_utils import calculate_onnx_model_size\n",
    "from archai.onnx.export import export_to_onnx\n",
    "\n",
    "onnx_model_path = \"model.onnx\"\n",
    "onnx_config = export_to_onnx(\n",
    "        model,\n",
    "        onnx_model_path,\n",
    "        task=\"causal-lm\",\n",
    "        use_past=True,\n",
    "        share_weights=True,\n",
    "        opset=11,\n",
    "        atol=1e-4,\n",
    "    )\n",
    "print(f\"Model: {calculate_onnx_model_size(onnx_model_path)}MB\")"
   ]
  },
  {
   "attachments": {},
   "cell_type": "markdown",
   "metadata": {},
   "source": [
    "## Post-Export Optimization"
   ]
  },
  {
   "cell_type": "code",
   "execution_count": null,
   "metadata": {},
   "outputs": [],
   "source": [
    "from archai.onnx.optimization import optimize_onnx\n",
    "\n",
    "ort_model_path = optimize_onnx(onnx_model_path, onnx_config, opt_level=1)\n",
    "print(f\"Model-OPT: {calculate_onnx_model_size(ort_model_path)}MB\")"
   ]
  },
  {
   "attachments": {},
   "cell_type": "markdown",
   "metadata": {},
   "source": [
    "## Post-Training Quantization (PTQ)"
   ]
  },
  {
   "cell_type": "code",
   "execution_count": null,
   "metadata": {},
   "outputs": [],
   "source": [
    "from archai.quantization.ptq import dynamic_quantization_onnx\n",
    "\n",
    "qnt_model_path = dynamic_quantization_onnx(ort_model_path)\n",
    "print(f\"Model-QNT: {calculate_onnx_model_size(qnt_model_path)}MB\")"
   ]
  }
 ],
 "metadata": {
  "kernelspec": {
   "display_name": "archai",
   "language": "python",
   "name": "python3"
  },
  "language_info": {
   "name": "python",
   "version": "3.7.16 (default, Jan 17 2023, 16:06:28) [MSC v.1916 64 bit (AMD64)]"
  },
  "orig_nbformat": 4,
  "vscode": {
   "interpreter": {
    "hash": "b2be478cf8a2d9a6a1293b022e8589530f7ec0d0340a3a36da6068ef3d344086"
   }
  }
 },
 "nbformat": 4,
 "nbformat_minor": 2
}
