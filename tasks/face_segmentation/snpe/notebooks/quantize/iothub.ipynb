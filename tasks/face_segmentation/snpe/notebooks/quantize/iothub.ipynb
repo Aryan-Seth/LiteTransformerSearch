{
 "cells": [
  {
   "cell_type": "markdown",
   "metadata": {},
   "source": [
    "# IOT Hub Management\n",
    "\n",
    "This notebook can be used to configure your IOT hub so it can talk to your Qualcom HDK 888 devices."
   ]
  },
  {
   "cell_type": "code",
   "execution_count": 1,
   "metadata": {},
   "outputs": [],
   "source": [
    "import sys\n",
    "sys.path += ['./scripts']"
   ]
  },
  {
   "cell_type": "code",
   "execution_count": 2,
   "metadata": {},
   "outputs": [],
   "source": [
    "# Authentication package\n",
    "from azure.identity import DefaultAzureCredential, InteractiveBrowserCredential\n",
    "\n",
    "try:\n",
    "    credential = DefaultAzureCredential()\n",
    "    # Check if given credential can get token successfully.\n",
    "    credential.get_token(\"https://management.azure.com/.default\")\n",
    "except Exception as ex:\n",
    "    # Fall back to InteractiveBrowserCredential in case DefaultAzureCredential not work\n",
    "    credential = InteractiveBrowserCredential()"
   ]
  },
  {
   "cell_type": "code",
   "execution_count": 17,
   "metadata": {},
   "outputs": [],
   "source": [
    "# %pip install azure-mgmt-iothub\n",
    "# %pip install azure-iot-device\n",
    "# %pip install azure-iot-hub\n"
   ]
  },
  {
   "cell_type": "code",
   "execution_count": 33,
   "metadata": {},
   "outputs": [],
   "source": [
    "import json\n",
    " \n",
    "config = json.load(open(\".azureml/config.json\"))\n",
    "\n",
    "subscription = config['subscription_id']\n",
    "iot_resource_group = config['iot_resource_group']\n",
    "iot_hub_name = config['iot_hub_name']\n",
    "location = config['location']\n",
    "iot_hub_connection_string = config['iot_hub_connection_string']"
   ]
  },
  {
   "cell_type": "code",
   "execution_count": 5,
   "metadata": {},
   "outputs": [],
   "source": [
    "\n",
    "from azure.mgmt.iothub import IotHubClient\n",
    "\n",
    "iothub_client = IotHubClient(\n",
    "    credential,\n",
    "    subscription\n",
    ")"
   ]
  },
  {
   "cell_type": "code",
   "execution_count": 6,
   "metadata": {},
   "outputs": [
    {
     "name": "stdout",
     "output_type": "stream",
     "text": [
      "MsrSnpeDeviceHub\n"
     ]
    }
   ],
   "source": [
    "async_iot_hub = iothub_client.iot_hub_resource.begin_create_or_update(\n",
    "    iot_resource_group,\n",
    "    iot_hub_name,\n",
    "    {\n",
    "        'location': location,\n",
    "        'subscriptionid': subscription,\n",
    "        'resourcegroup': iot_resource_group,\n",
    "        'sku': {\n",
    "            'name': 'S1',\n",
    "            'capacity': 2\n",
    "        }\n",
    "    }\n",
    ")\n",
    "\n",
    "iot_hub = async_iot_hub.result() # Blocking wait for creation\n",
    "\n",
    "print(iot_hub.name)"
   ]
  },
  {
   "cell_type": "code",
   "execution_count": 14,
   "metadata": {},
   "outputs": [
    {
     "name": "stdout",
     "output_type": "stream",
     "text": [
      "['f7a32443']\n"
     ]
    }
   ],
   "source": [
    "from utils import Adb\n",
    "\n",
    "adb = Adb()\n",
    "devices = adb.get_devices()\n",
    "\n",
    "print(devices)"
   ]
  },
  {
   "cell_type": "code",
   "execution_count": 34,
   "metadata": {},
   "outputs": [
    {
     "name": "stdout",
     "output_type": "stream",
     "text": [
      "2492867a\n"
     ]
    }
   ],
   "source": [
    "from azure.iot.hub import IoTHubRegistryManager\n",
    "from azure.iot.hub.models import CloudToDeviceMethod, CloudToDeviceMethodResult, Twin\n",
    "from azure.iot.device import IoTHubDeviceClient, MethodResponse\n",
    "\n",
    "iothub_registry_manager = IoTHubRegistryManager(iot_hub_connection_string)\n",
    "device = iothub_registry_manager.get_twin('2492867a')\n",
    "\n",
    "print(device.device_id)"
   ]
  },
  {
   "cell_type": "code",
   "execution_count": 32,
   "metadata": {},
   "outputs": [
    {
     "data": {
      "text/plain": [
       "<azure.iot.hub.protocol.models.twin_py3.Twin at 0x249877eadd0>"
      ]
     },
     "execution_count": 32,
     "metadata": {},
     "output_type": "execute_result"
    }
   ],
   "source": [
    "# update the device twin to communicate the status of the device.\n",
    "iothub_registry_manager.update_twin(device.device_id, Twin(tags={'device_type': 'android', 'online': True}))"
   ]
  },
  {
   "cell_type": "code",
   "execution_count": null,
   "metadata": {},
   "outputs": [],
   "source": []
  }
 ],
 "metadata": {
  "kernelspec": {
   "display_name": "archai",
   "language": "python",
   "name": "python3"
  },
  "language_info": {
   "codemirror_mode": {
    "name": "ipython",
    "version": 3
   },
   "file_extension": ".py",
   "mimetype": "text/x-python",
   "name": "python",
   "nbconvert_exporter": "python",
   "pygments_lexer": "ipython3",
   "version": "3.10.9"
  },
  "orig_nbformat": 4,
  "vscode": {
   "interpreter": {
    "hash": "6e17fa15dde6767600fffe17352775c2dcab3bfbf1fd9e12a03b13b1554fc994"
   }
  }
 },
 "nbformat": 4,
 "nbformat_minor": 2
}
