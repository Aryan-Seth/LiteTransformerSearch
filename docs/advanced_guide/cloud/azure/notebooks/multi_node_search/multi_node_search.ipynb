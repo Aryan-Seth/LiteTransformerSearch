{
  "cells": [
    {
      "attachments": {},
      "cell_type": "markdown",
      "metadata": {
        "nbsphinx": {
          "execute": "never"
        }
      },
      "source": [
        "# Multi-node Search\n",
        "\n",
        "This notebook and accompanying code shows how to run an\n",
        "[Archai](https://github.com/microsoft/archai/) Neural Architecture Search (NAS) using an [Azure\n",
        "Machine Learning Workspace](https://ml.azure.com/) with partial training of models (on a GPU\n",
        "cluster) providing validation accuracies to guide that search. This notebook requires that you have\n",
        "the [Azure CLI](https://learn.microsoft.com/en-us/cli/azure/install-azure-cli) installed and logged\n",
        "in otherwise the create compute cluster cell will fail.  You will also need to create an Azure ML\n",
        "workspace using [https://ml.azure.com] and an Azure storage account.  The storage account does not\n",
        "need to be in the same resource group as the workspace.\n",
        "\n",
        "This notebook also assumes you have a python environment setup using `pip install -e .[aml]` in your\n",
        "Archai repository root. This example requires a `config.json` file containing the information about\n",
        "your Azure subscription, the Azure ML workspace name and resource group, and the azure storage\n",
        "account key and name:\n",
        "\n",
        "```json\n",
        "{\n",
        "    \"subscription_id\": \"...\",\n",
        "    \"resource_group\": \"...\",\n",
        "    \"workspace_name\": \"...\",\n",
        "    \"storage_account_key\": \"...\",\n",
        "    \"storage_account_name\": \"...\"\n",
        "}\n",
        "```\n",
        "See:\n",
        "- [Set up a Python development environment for Azure Machine Learning](https://learn.microsoft.com/en-us/azure/machine-learning/how-to-configure-environment#local-and-dsvm-only-create-a-workspace-configuration-file) \n",
        "- [Get your Storage Account keys](https://learn.microsoft.com/en-us/azure/storage/common/storage-account-keys-manage?tabs=azure-portal)."
      ]
    },
    {
      "cell_type": "code",
      "execution_count": 1,
      "metadata": {},
      "outputs": [
        {
          "name": "stdout",
          "output_type": "stream",
          "text": [
            "Using workspace archai-aml-test and storage account: archaimnistmodels\n"
          ]
        }
      ],
      "source": [
        "import os\n",
        "import json\n",
        "import archai.common.azureml_helper as aml_helper\n",
        "import archai.common.notebook_helper as nb_helper\n",
        "from azure.ai.ml.entities import UserIdentityConfiguration\n",
        "\n",
        "# locate the code that we will use in this notebook.\n",
        "scripts_dir = \"./scripts\"\n",
        "data_scripts_dir = \"./data_prep\"\n",
        "\n",
        "config_file = \"../.azureml/config.json\"\n",
        "config = json.load(open(config_file, 'r'))\n",
        "\n",
        "for required_key in ['subscription_id', 'resource_group', 'workspace_name', 'storage_account_key', 'storage_account_name']:\n",
        "    if not required_key in config:\n",
        "        print(f\"### Error: please add a {required_key} to {config_file}\")\n",
        "\n",
        "storage_account_key = config['storage_account_key']    \n",
        "storage_account_name = config['storage_account_name']\n",
        "workspace_name = config['workspace_name']\n",
        "\n",
        "print(f'Using workspace {workspace_name} and storage account: {storage_account_name}')\n",
        "\n",
        "# This is the AML experiment name \n",
        "experiment_name = 'mnist_test_run'"
      ]
    },
    {
      "attachments": {},
      "cell_type": "markdown",
      "metadata": {},
      "source": [
        "Our [search.py](scripts/search.py) will use a ConfigSearchSpace based on the following parameters, the model defined in [model.py](scripts/model.py) will take various configurations and build different shape CNN models for each configuration as shown below. Each time you execute this cell it will generate a new random CNN model."
      ]
    },
    {
      "cell_type": "code",
      "execution_count": 2,
      "metadata": {},
      "outputs": [
        {
          "name": "stdout",
          "output_type": "stream",
          "text": [
            "ArchConfig({\n",
            "    \"nb_layers\": 1,\n",
            "    \"kernel_size\": 7,\n",
            "    \"hidden_dim\": 64\n",
            "})\n"
          ]
        },
        {
          "data": {
            "text/plain": [
              "MyModel(\n",
              "  (cross_entropy_loss): CrossEntropyLoss()\n",
              "  (model): Sequential(\n",
              "    (0): Conv2d(1, 64, kernel_size=(7, 7), stride=(1, 1), padding=(3, 3))\n",
              "    (1): BatchNorm2d(64, eps=1e-05, momentum=0.1, affine=True, track_running_stats=True)\n",
              "    (2): ReLU()\n",
              "    (3): AdaptiveAvgPool2d(output_size=(1, 1))\n",
              "    (4): Conv2d(64, 10, kernel_size=(1, 1), stride=(1, 1))\n",
              "  )\n",
              ")"
            ]
          },
          "execution_count": 2,
          "metadata": {},
          "output_type": "execute_result"
        }
      ],
      "source": [
        "from archai.discrete_search.search_spaces.config import ArchParamTree, DiscreteChoice, ArchConfig\n",
        "from scripts.model import MyModel\n",
        "\n",
        "arch_param_tree = ArchParamTree({\n",
        "    'nb_layers': DiscreteChoice(list(range(1, 13))),\n",
        "    'kernel_size': DiscreteChoice([1, 3, 5, 7]),\n",
        "    'hidden_dim': DiscreteChoice([16, 32, 64, 128])\n",
        "})\n",
        "\n",
        "arch_config = arch_param_tree.sample_config()\n",
        "print(arch_config)\n",
        "\n",
        "MyModel(arch_config)"
      ]
    },
    {
      "attachments": {},
      "cell_type": "markdown",
      "metadata": {},
      "source": [
        "Get a handle to the workspace"
      ]
    },
    {
      "cell_type": "code",
      "execution_count": 3,
      "metadata": {},
      "outputs": [
        {
          "name": "stderr",
          "output_type": "stream",
          "text": [
            "Found the config file in: ..\\.azureml\\config.json\n"
          ]
        },
        {
          "name": "stdout",
          "output_type": "stream",
          "text": [
            "Using workspace \"archai-aml-test\" in resource group \"snpe-aml-rg\"\n"
          ]
        }
      ],
      "source": [
        "ml_client = aml_helper.get_aml_client_from_file(config_path=config_file)\n",
        "print(f'Using workspace \"{ml_client.workspace_name}\" in resource group \"{ml_client.resource_group_name}\"')"
      ]
    },
    {
      "attachments": {},
      "cell_type": "markdown",
      "metadata": {},
      "source": [
        "Create the compute clusters that we need.  If this cell fails with `DefaultAzureCredential failed to retrieve a token from the included credentials`.\n",
        "then you might need to run `az login` from the command line using the [Azure CLI](https://learn.microsoft.com/en-us/cli/azure/install-azure-cli).\n",
        "If it also fails with `ResourceNotFoundError: (ParentResourceNotFound)` then you may need to run `az account set --subscription ...` with the \n",
        "subscription id you specified in the above `config.json` file and check that the resource group you specified really does contain the Azure ML workspace\n",
        "you specified."
      ]
    },
    {
      "cell_type": "code",
      "execution_count": 5,
      "metadata": {},
      "outputs": [
        {
          "name": "stdout",
          "output_type": "stream",
          "text": [
            "You already have a cluster named nas-cpu-cluster-D14-v2, we'll reuse it as is.\n",
            "You already have a cluster named nas-gpu-cluster-NC6, we'll reuse it as is.\n"
          ]
        },
        {
          "data": {
            "text/plain": [
              "AmlCompute({'type': 'amlcompute', 'created_on': None, 'provisioning_state': 'Succeeded', 'provisioning_errors': None, 'name': 'nas-gpu-cluster-NC6', 'description': None, 'tags': None, 'properties': {}, 'print_as_yaml': True, 'id': '/subscriptions/c8b7f913-60fb-4759-a310-fc5630e56f99/resourceGroups/snpe-aml-rg/providers/Microsoft.MachineLearningServices/workspaces/archai-aml-test/computes/nas-gpu-cluster-NC6', 'Resource__source_path': None, 'base_path': 'd:\\\\git\\\\microsoft\\\\archai\\\\archai\\\\docs\\\\advanced_guide\\\\cloud\\\\azure\\\\notebooks\\\\multi_node_search', 'creation_context': None, 'serialize': <msrest.serialization.Serializer object at 0x000001677FB8C220>, 'resource_id': None, 'location': 'westus2', 'size': 'STANDARD_NC6', 'min_instances': 0, 'max_instances': 8, 'idle_time_before_scale_down': 180.0, 'identity': None, 'ssh_public_access_enabled': True, 'ssh_settings': None, 'network_settings': <azure.ai.ml.entities._compute.compute.NetworkSettings object at 0x00000167349C6020>, 'tier': 'dedicated', 'enable_node_public_ip': True, 'subnet': None})"
            ]
          },
          "execution_count": 5,
          "metadata": {},
          "output_type": "execute_result"
        }
      ],
      "source": [
        "# Create cpu cluster for running the search\n",
        "cpu_compute_name = \"nas-cpu-cluster-D14-v2\"\n",
        "aml_helper.create_compute_cluster(ml_client, cpu_compute_name, size=\"Standard_D14_v2\", location=\"westus2\")\n",
        "\n",
        "# Create gpu cluster for running the search\n",
        "gpu_compute_name = \"nas-gpu-cluster-NC6\"\n",
        "aml_helper.create_compute_cluster(ml_client, gpu_compute_name, size=\"Standard_NC6\", location=\"westus2\", max_instances=8)"
      ]
    },
    {
      "attachments": {},
      "cell_type": "markdown",
      "metadata": {},
      "source": [
        "Create the AML Environment from our conda.yaml file.  This ensures our conda environment contains the Archai framework that we are using here."
      ]
    },
    {
      "cell_type": "code",
      "execution_count": 6,
      "metadata": {},
      "outputs": [
        {
          "name": "stdout",
          "output_type": "stream",
          "text": [
            "Environment with name aml-archai is registered to workspace, the environment version is 1.0.0\n",
            "aml-archai:1.0.0\n"
          ]
        }
      ],
      "source": [
        "archai_job_env = aml_helper.create_environment_from_file(ml_client, \n",
        "                                                         image=\"mcr.microsoft.com/azureml/openmpi3.1.2-ubuntu18.04:latest\",\n",
        "                                                         conda_file=\"conda.yaml\", \n",
        "                                                         version='1.0.0')\n",
        "environment_name = f\"{archai_job_env.name}:{archai_job_env.version}\"\n",
        "print(environment_name)"
      ]
    },
    {
      "attachments": {},
      "cell_type": "markdown",
      "metadata": {},
      "source": [
        "Ensure our storage account is setup with a `models` blob store container for storing the final onnx models, a `datasets` blob store for our training dataset and a `status` storage table."
      ]
    },
    {
      "cell_type": "code",
      "execution_count": 7,
      "metadata": {},
      "outputs": [],
      "source": [
        "from archai.common.store import ArchaiStore\n",
        "\n",
        "# Register the datastore with AML\n",
        "data_store_name = \"datasets\"\n",
        "data_container_name = \"datasets\"\n",
        "model_store_name = \"models\"\n",
        "model_container_name = \"models\"\n",
        "root_folder = experiment_name\n",
        "\n",
        "# make sure the datasets container exists\n",
        "store = ArchaiStore(storage_account_name, storage_account_key, blob_container_name=data_container_name)\n",
        "store.upload_blob(root_folder, config_file)\n",
        "\n",
        "# make sure the models container exists\n",
        "store = ArchaiStore(storage_account_name, storage_account_key, blob_container_name=model_container_name)\n",
        "store.upload_blob(\"config\", config_file)\n",
        "\n",
        "datastore_path = f'azureml://datastores/{data_store_name}/paths/{root_folder}'\n",
        "results_path = f'azureml://datastores/{model_store_name}/paths/{root_folder}'"
      ]
    },
    {
      "attachments": {},
      "cell_type": "markdown",
      "metadata": {},
      "source": [
        "Register the `models` blob store container in the ML workspace `datastores`"
      ]
    },
    {
      "cell_type": "code",
      "execution_count": 8,
      "metadata": {},
      "outputs": [],
      "source": [
        "from azure.ai.ml.entities import AzureBlobDatastore\n",
        "from azure.ai.ml.entities._credentials import AccountKeyConfiguration\n",
        "\n",
        "try:\n",
        "    model_store = ml_client.datastores.get(model_store_name)\n",
        "except:    \n",
        "    model_store = AzureBlobDatastore(\n",
        "        name=model_store_name,\n",
        "        description=\"Datastore pointing to our models blob container.\",\n",
        "        account_name=storage_account_name,\n",
        "        container_name=model_container_name,\n",
        "        credentials=AccountKeyConfiguration(\n",
        "            account_key=storage_account_key\n",
        "        ),\n",
        "    )\n",
        "\n",
        "    ml_client.create_or_update(model_store)"
      ]
    },
    {
      "attachments": {},
      "cell_type": "markdown",
      "metadata": {},
      "source": [
        "Register the `datasets` blob store container in the ML workspace `datastores`"
      ]
    },
    {
      "cell_type": "code",
      "execution_count": 9,
      "metadata": {},
      "outputs": [],
      "source": [
        "try:\n",
        "    data_store = ml_client.datastores.get(data_store_name)\n",
        "except:\n",
        "    data_store = AzureBlobDatastore(\n",
        "        name=data_store_name,\n",
        "        description=\"Datastore pointing to our dataset container.\",\n",
        "        account_name=storage_account_name,\n",
        "        container_name=data_container_name,\n",
        "        credentials=AccountKeyConfiguration(\n",
        "            account_key=storage_account_key\n",
        "        ),\n",
        "    )\n",
        "\n",
        "    ml_client.create_or_update(data_store)"
      ]
    },
    {
      "attachments": {},
      "cell_type": "markdown",
      "metadata": {},
      "source": [
        "Create a pipeline command that prepares our training dataset using `prep_data_store.py`.  This pipeline will write the output do our `datasets` blob store so the training jobs can find the dataset there all ready to go.  That way each training job doesn't have to repeat the download and preparation of the dataset."
      ]
    },
    {
      "cell_type": "code",
      "execution_count": 10,
      "metadata": {},
      "outputs": [],
      "source": [
        "from azure.ai.ml import command\n",
        "from azure.ai.ml import Input, Output\n",
        "\n",
        "data_prep_component = command(\n",
        "    name=\"data_prep2\",\n",
        "    display_name=\"Data preparation for training\",\n",
        "    description=\"Downloads the remote dataset to our blob store.\",  \n",
        "    inputs= {\n",
        "        \"name\": Input(type='string')\n",
        "    },\n",
        "    outputs= {\n",
        "        \"data\": Output(type=\"uri_folder\", path=datastore_path, mode=\"rw_mount\")\n",
        "    },\n",
        "\n",
        "    # The source folder of the component\n",
        "    code=data_scripts_dir,\n",
        "    command=\"\"\"python3 prep_data_store.py \\\n",
        "            --path ${{outputs.data}} \\\n",
        "            \"\"\",\n",
        "    environment=environment_name,\n",
        ")"
      ]
    },
    {
      "attachments": {},
      "cell_type": "markdown",
      "metadata": {},
      "source": [
        "Create a command that kicks off the Archai Search using `search.py`, it will take the dataset as input so it can pass it along to the training jobs later on.  It also produces some search output files, .png charts, and json results files which will also go into our `models` blob store under the folder named the same as our `experiment_name`."
      ]
    },
    {
      "cell_type": "code",
      "execution_count": 10,
      "metadata": {},
      "outputs": [],
      "source": [
        "hex_config = bytes(json.dumps(config), encoding='utf-8').hex()\n",
        "\n",
        "partial_epochs = 0.1\n",
        "max_unseen_population = 16  # best if this is an even multiple our gpu cluster size, we'll get much better throughput.\n",
        "search_iterations = 5  # for quick debugging.\n",
        "init_num_models = 10\n",
        "\n",
        "output_path = results_path + '/' + experiment_name\n",
        "fixed_args = f'--data_dir {datastore_path} ' + \\\n",
        "             f'--output_dir {output_path} ' + \\\n",
        "             f'--environment \"{environment_name}\" ' + \\\n",
        "             f'--experiment \"{experiment_name}\" ' + \\\n",
        "             f'--compute \"{gpu_compute_name}\" ' + \\\n",
        "             f'--config \"{hex_config}\" ' + \\\n",
        "             f'--search_iterations {search_iterations} ' + \\\n",
        "             f'--init_num_models {init_num_models} ' + \\\n",
        "             f'--max_unseen_population {max_unseen_population} ' + \\\n",
        "             f'--partial_training_epochs {partial_epochs} '\n",
        "\n",
        "search_component = command(\n",
        "    name=\"search\",\n",
        "    display_name=\"The Archai NAS search\",\n",
        "    description=\"Runs the NAS search algorithm.\",    \n",
        "    is_deterministic=False,\n",
        "    inputs= {\n",
        "        \"data\": Input(type=\"uri_folder\")\n",
        "    },\n",
        "    outputs= {\n",
        "        \"results\": Output(type=\"uri_folder\", path=output_path, mode=\"rw_mount\")\n",
        "    },\n",
        "    code=scripts_dir,\n",
        "    identity= UserIdentityConfiguration(),\n",
        "    command='python3 search.py --local_output ${{outputs.results}} ' + \\\n",
        "        fixed_args,\n",
        "    environment=environment_name,\n",
        ")"
      ]
    },
    {
      "attachments": {},
      "cell_type": "markdown",
      "metadata": {},
      "source": [
        "This creates a command that will do full training on the final list of the best models produced by the above search command. Also creates a monitor command that monitors all the parallel training jobs and gathers the results when they are all complete updating our final `models.json` file."
      ]
    },
    {
      "cell_type": "code",
      "execution_count": 11,
      "metadata": {},
      "outputs": [],
      "source": [
        "from scripts.commands import make_training_pipeline_command, make_monitor_command\n",
        "full_epochs = 10\n",
        "timeout = 3600\n",
        "hex_config = bytes(json.dumps(config), encoding='utf-8').hex()\n",
        "\n",
        "full_training_component = make_training_pipeline_command(\n",
        "    \"Full Training Pipeline\", hex_config, scripts_dir, gpu_compute_name, \n",
        "    datastore_path, output_path, experiment_name, environment_name, full_epochs, save_models=True)\n",
        "                                                 \n",
        "monitor_component = make_monitor_command(hex_config, scripts_dir, results_path, environment_name, timeout)"
      ]
    },
    {
      "attachments": {},
      "cell_type": "markdown",
      "metadata": {},
      "source": [
        "Create an AML pipeline that pipes the output of the data prep to the search component, then when search is finished, starts a full training job of the top models and then waits for all that training to finish."
      ]
    },
    {
      "cell_type": "code",
      "execution_count": 12,
      "metadata": {},
      "outputs": [],
      "source": [
        "from azure.ai.ml import dsl\n",
        "\n",
        "@dsl.pipeline(\n",
        "    compute=cpu_compute_name,\n",
        "    description=\"Archai search pipeline\",\n",
        ")\n",
        "def archai_search_pipeline():\n",
        "    \n",
        "    data_prep_job = data_prep_component(\n",
        "        name=\"MNIST\"\n",
        "    )\n",
        "\n",
        "    search_job = search_component(\n",
        "        data=data_prep_job.outputs.data\n",
        "    )\n",
        "    \n",
        "    training_job = full_training_component(\n",
        "        models=search_job.outputs.results,\n",
        "        data=data_prep_job.outputs.data\n",
        "    )\n",
        "\n",
        "    monitor_job = monitor_component(\n",
        "        models=search_job.outputs.results,\n",
        "        training_results=training_job.outputs.results\n",
        "    )\n",
        "\n",
        "    return {\n",
        "        \"results\": monitor_job.outputs.results\n",
        "    }\n"
      ]
    },
    {
      "attachments": {},
      "cell_type": "markdown",
      "metadata": {},
      "source": [
        "Submit the pipeline job so it starts running in your Azure ML workspace."
      ]
    },
    {
      "cell_type": "code",
      "execution_count": 13,
      "metadata": {},
      "outputs": [],
      "source": [
        "pipeline_job = ml_client.jobs.create_or_update(\n",
        "    archai_search_pipeline(),\n",
        "    # Project's name\n",
        "    experiment_name=experiment_name,\n",
        ")"
      ]
    },
    {
      "attachments": {},
      "cell_type": "markdown",
      "metadata": {},
      "source": [
        "Open the pipeline azure ML studio portal in your web browser (this works when you are running this notebook in VS code)."
      ]
    },
    {
      "cell_type": "code",
      "execution_count": 14,
      "metadata": {},
      "outputs": [
        {
          "name": "stdout",
          "output_type": "stream",
          "text": [
            "Started pipeline: amusing_monkey_2248p6qm47\n"
          ]
        }
      ],
      "source": [
        "import webbrowser\n",
        "webbrowser.open(pipeline_job.services[\"Studio\"].endpoint)\n",
        "\n",
        "job_name = pipeline_job.name\n",
        "print(f'Started pipeline: {job_name}')"
      ]
    },
    {
      "cell_type": "code",
      "execution_count": 11,
      "metadata": {},
      "outputs": [],
      "source": [
        "# you can fetch any pipeline job again if you needed to continue this notebook later:\n",
        "from azure.ai.ml import dsl, Input, Output\n",
        "# job_name = 'amusing_monkey_2248p6qm47'\n",
        "pipeline_job = ml_client.jobs.get(job_name)"
      ]
    },
    {
      "attachments": {},
      "cell_type": "markdown",
      "metadata": {},
      "source": [
        "## Plots\n",
        "\n",
        "This cell can be run multiple times and you will see updates as each iteration finishes.\n",
        "You can even run this later after restarting the jupyter notebook because it is not dependent on variable state it is only\n",
        "dependent on the persistent 'models' blob store."
      ]
    },
    {
      "cell_type": "code",
      "execution_count": null,
      "metadata": {},
      "outputs": [],
      "source": [
        "from scripts.utils import get_results, show_results, download_best_models\n",
        "from archai.common.store import ArchaiStore\n",
        "store = ArchaiStore(storage_account_name, storage_account_key, blob_container_name=model_container_name)\n",
        "\n",
        "print(f'Fetching results for {experiment_name}...')\n",
        "blob_path = root_folder + '/' + experiment_name\n",
        "output_folder = experiment_name\n",
        "\n",
        "get_results(store, blob_path, output_folder)\n",
        "download_best_models(store, experiment_name, output_folder)"
      ]
    },
    {
      "attachments": {},
      "cell_type": "markdown",
      "metadata": {},
      "source": [
        "Take a look at the pareto curve plots.  "
      ]
    },
    {
      "cell_type": "code",
      "execution_count": 3,
      "metadata": {},
      "outputs": [
        {
          "data": {
            "image/png": "[encoded data removed]",
            "text/plain": [
              "<IPython.core.display.Image object>"
            ]
          },
          "metadata": {},
          "output_type": "display_data"
        },
        {
          "data": {
            "image/png": "[encoded data removed]",
            "text/plain": [
              "<IPython.core.display.Image object>"
            ]
          },
          "metadata": {},
          "output_type": "display_data"
        },
        {
          "data": {
            "image/png": "[encoded data removed]",
            "text/plain": [
              "<IPython.core.display.Image object>"
            ]
          },
          "metadata": {},
          "output_type": "display_data"
        }
      ],
      "source": [
        "# Now show the png plots produced by the search\n",
        "show_results(output_folder)"
      ]
    },
    {
      "cell_type": "code",
      "execution_count": 10,
      "metadata": {},
      "outputs": [
        {
          "data": {
            "text/html": [
              "<div style=\"height: 300px; overflow-y: scroll;\"><style type=\"text/css\">\n",
              "#T_8ad92_row0_col0, #T_8ad92_row0_col1, #T_8ad92_row1_col0, #T_8ad92_row1_col1, #T_8ad92_row2_col0, #T_8ad92_row2_col1, #T_8ad92_row3_col0, #T_8ad92_row3_col1, #T_8ad92_row4_col0, #T_8ad92_row4_col1, #T_8ad92_row5_col0, #T_8ad92_row5_col1, #T_8ad92_row6_col0, #T_8ad92_row6_col1, #T_8ad92_row7_col0, #T_8ad92_row7_col1, #T_8ad92_row8_col0, #T_8ad92_row8_col1, #T_8ad92_row9_col0, #T_8ad92_row9_col1, #T_8ad92_row10_col0, #T_8ad92_row10_col1, #T_8ad92_row11_col0, #T_8ad92_row11_col1, #T_8ad92_row12_col0, #T_8ad92_row12_col1, #T_8ad92_row13_col0, #T_8ad92_row13_col1, #T_8ad92_row14_col0, #T_8ad92_row14_col1, #T_8ad92_row15_col0, #T_8ad92_row15_col1, #T_8ad92_row16_col0, #T_8ad92_row16_col1, #T_8ad92_row17_col0, #T_8ad92_row17_col1, #T_8ad92_row18_col0, #T_8ad92_row18_col1, #T_8ad92_row19_col0, #T_8ad92_row19_col1, #T_8ad92_row20_col0, #T_8ad92_row20_col1, #T_8ad92_row21_col0, #T_8ad92_row21_col1, #T_8ad92_row22_col0, #T_8ad92_row22_col1, #T_8ad92_row23_col0, #T_8ad92_row23_col1, #T_8ad92_row24_col0, #T_8ad92_row24_col1, #T_8ad92_row25_col0, #T_8ad92_row25_col1, #T_8ad92_row26_col0, #T_8ad92_row26_col1, #T_8ad92_row27_col0, #T_8ad92_row27_col1, #T_8ad92_row28_col0, #T_8ad92_row28_col1, #T_8ad92_row29_col0, #T_8ad92_row29_col1, #T_8ad92_row30_col0, #T_8ad92_row30_col1, #T_8ad92_row31_col0, #T_8ad92_row31_col1, #T_8ad92_row32_col0, #T_8ad92_row32_col1, #T_8ad92_row33_col0, #T_8ad92_row33_col1, #T_8ad92_row34_col0, #T_8ad92_row34_col1, #T_8ad92_row35_col0, #T_8ad92_row35_col1, #T_8ad92_row36_col0, #T_8ad92_row36_col1, #T_8ad92_row37_col0, #T_8ad92_row37_col1, #T_8ad92_row38_col0, #T_8ad92_row38_col1, #T_8ad92_row39_col0, #T_8ad92_row39_col1, #T_8ad92_row40_col0, #T_8ad92_row40_col1, #T_8ad92_row41_col0, #T_8ad92_row41_col1, #T_8ad92_row42_col0, #T_8ad92_row42_col1, #T_8ad92_row43_col0, #T_8ad92_row43_col1, #T_8ad92_row44_col0, #T_8ad92_row44_col1, #T_8ad92_row45_col0, #T_8ad92_row45_col1, #T_8ad92_row46_col0, #T_8ad92_row46_col1, #T_8ad92_row47_col0, #T_8ad92_row47_col1, #T_8ad92_row48_col0, #T_8ad92_row48_col1, #T_8ad92_row49_col0, #T_8ad92_row49_col1, #T_8ad92_row50_col0, #T_8ad92_row50_col1, #T_8ad92_row51_col0, #T_8ad92_row51_col1, #T_8ad92_row52_col0, #T_8ad92_row52_col1, #T_8ad92_row53_col0, #T_8ad92_row53_col1, #T_8ad92_row54_col0, #T_8ad92_row54_col1, #T_8ad92_row55_col0, #T_8ad92_row55_col1, #T_8ad92_row56_col0, #T_8ad92_row56_col1, #T_8ad92_row57_col0, #T_8ad92_row57_col1, #T_8ad92_row58_col0, #T_8ad92_row58_col1, #T_8ad92_row59_col0, #T_8ad92_row59_col1, #T_8ad92_row60_col0, #T_8ad92_row60_col1, #T_8ad92_row61_col0, #T_8ad92_row61_col1, #T_8ad92_row62_col0, #T_8ad92_row62_col1, #T_8ad92_row63_col0, #T_8ad92_row63_col1, #T_8ad92_row64_col0, #T_8ad92_row64_col1, #T_8ad92_row65_col0, #T_8ad92_row65_col1, #T_8ad92_row66_col0, #T_8ad92_row66_col1, #T_8ad92_row67_col0, #T_8ad92_row67_col1, #T_8ad92_row68_col0, #T_8ad92_row68_col1, #T_8ad92_row69_col0, #T_8ad92_row69_col1, #T_8ad92_row70_col0, #T_8ad92_row70_col1 {\n",
              "  background-color: lightblue;\n",
              "  color: black;\n",
              "  border-color: white;\n",
              "  font-size: 12pt;\n",
              "}\n",
              "</style>\n",
              "<table id=\"T_8ad92\">\n",
              "  <thead>\n",
              "    <tr>\n",
              "      <th class=\"blank level0\" >&nbsp;</th>\n",
              "      <th id=\"T_8ad92_level0_col0\" class=\"col_heading level0 col0\" >archid</th>\n",
              "      <th id=\"T_8ad92_level0_col1\" class=\"col_heading level0 col1\" >AmlTrainingValAccuracy</th>\n",
              "    </tr>\n",
              "  </thead>\n",
              "  <tbody>\n",
              "    <tr>\n",
              "      <th id=\"T_8ad92_level0_row0\" class=\"row_heading level0 row0\" >0</th>\n",
              "      <td id=\"T_8ad92_row0_col0\" class=\"data row0 col0\" >8938b6e49d7129a0f9c9b4e7fe0c8839a162edaa</td>\n",
              "      <td id=\"T_8ad92_row0_col1\" class=\"data row0 col1\" >0.882900</td>\n",
              "    </tr>\n",
              "    <tr>\n",
              "      <th id=\"T_8ad92_level0_row1\" class=\"row_heading level0 row1\" >1</th>\n",
              "      <td id=\"T_8ad92_row1_col0\" class=\"data row1 col0\" >ccbc3c31e981d838e869d9dde9f41d56c8716fa1</td>\n",
              "      <td id=\"T_8ad92_row1_col1\" class=\"data row1 col1\" >0.098100</td>\n",
              "    </tr>\n",
              "    <tr>\n",
              "      <th id=\"T_8ad92_level0_row2\" class=\"row_heading level0 row2\" >2</th>\n",
              "      <td id=\"T_8ad92_row2_col0\" class=\"data row2 col0\" >bda3d5c8a49c25219047b217b554f0c63f778d4b</td>\n",
              "      <td id=\"T_8ad92_row2_col1\" class=\"data row2 col1\" >0.980900</td>\n",
              "    </tr>\n",
              "    <tr>\n",
              "      <th id=\"T_8ad92_level0_row3\" class=\"row_heading level0 row3\" >3</th>\n",
              "      <td id=\"T_8ad92_row3_col0\" class=\"data row3 col0\" >2641726b76b7908a0f9c629177dac01c43875d3e</td>\n",
              "      <td id=\"T_8ad92_row3_col1\" class=\"data row3 col1\" >0.710100</td>\n",
              "    </tr>\n",
              "    <tr>\n",
              "      <th id=\"T_8ad92_level0_row4\" class=\"row_heading level0 row4\" >4</th>\n",
              "      <td id=\"T_8ad92_row4_col0\" class=\"data row4 col0\" >c834473070cd3911e1003b1231c709f9f4461377</td>\n",
              "      <td id=\"T_8ad92_row4_col1\" class=\"data row4 col1\" >0.988700</td>\n",
              "    </tr>\n",
              "    <tr>\n",
              "      <th id=\"T_8ad92_level0_row5\" class=\"row_heading level0 row5\" >5</th>\n",
              "      <td id=\"T_8ad92_row5_col0\" class=\"data row5 col0\" >5250394823644da1723957218bdca3aaaee62020</td>\n",
              "      <td id=\"T_8ad92_row5_col1\" class=\"data row5 col1\" >0.912800</td>\n",
              "    </tr>\n",
              "    <tr>\n",
              "      <th id=\"T_8ad92_level0_row6\" class=\"row_heading level0 row6\" >6</th>\n",
              "      <td id=\"T_8ad92_row6_col0\" class=\"data row6 col0\" >acbe4f76a7aaf7444125b7f7c81ac9eb2054868b</td>\n",
              "      <td id=\"T_8ad92_row6_col1\" class=\"data row6 col1\" >0.638500</td>\n",
              "    </tr>\n",
              "    <tr>\n",
              "      <th id=\"T_8ad92_level0_row7\" class=\"row_heading level0 row7\" >7</th>\n",
              "      <td id=\"T_8ad92_row7_col0\" class=\"data row7 col0\" >793135ba860a7d29a49c284aa3c1c56fce50971a</td>\n",
              "      <td id=\"T_8ad92_row7_col1\" class=\"data row7 col1\" >0.223200</td>\n",
              "    </tr>\n",
              "    <tr>\n",
              "      <th id=\"T_8ad92_level0_row8\" class=\"row_heading level0 row8\" >8</th>\n",
              "      <td id=\"T_8ad92_row8_col0\" class=\"data row8 col0\" >90bf06f1efa42fe0e0f311bc92e49a876066bd93</td>\n",
              "      <td id=\"T_8ad92_row8_col1\" class=\"data row8 col1\" >0.501000</td>\n",
              "    </tr>\n",
              "    <tr>\n",
              "      <th id=\"T_8ad92_level0_row9\" class=\"row_heading level0 row9\" >9</th>\n",
              "      <td id=\"T_8ad92_row9_col0\" class=\"data row9 col0\" >0e1ab9cac1c20c0461c8ff321e2fbd3fc1e3637a</td>\n",
              "      <td id=\"T_8ad92_row9_col1\" class=\"data row9 col1\" >0.202200</td>\n",
              "    </tr>\n",
              "    <tr>\n",
              "      <th id=\"T_8ad92_level0_row10\" class=\"row_heading level0 row10\" >10</th>\n",
              "      <td id=\"T_8ad92_row10_col0\" class=\"data row10 col0\" >210e69e2747f166859b1f50833b84eefc24c8f81</td>\n",
              "      <td id=\"T_8ad92_row10_col1\" class=\"data row10 col1\" >0.984000</td>\n",
              "    </tr>\n",
              "    <tr>\n",
              "      <th id=\"T_8ad92_level0_row11\" class=\"row_heading level0 row11\" >11</th>\n",
              "      <td id=\"T_8ad92_row11_col0\" class=\"data row11 col0\" >f054c49b6bee62288d8057f642794f68e108246c</td>\n",
              "      <td id=\"T_8ad92_row11_col1\" class=\"data row11 col1\" >0.829600</td>\n",
              "    </tr>\n",
              "    <tr>\n",
              "      <th id=\"T_8ad92_level0_row12\" class=\"row_heading level0 row12\" >12</th>\n",
              "      <td id=\"T_8ad92_row12_col0\" class=\"data row12 col0\" >02b8b9731887221e9023997fc0f1c71e6603101f</td>\n",
              "      <td id=\"T_8ad92_row12_col1\" class=\"data row12 col1\" >0.976500</td>\n",
              "    </tr>\n",
              "    <tr>\n",
              "      <th id=\"T_8ad92_level0_row13\" class=\"row_heading level0 row13\" >13</th>\n",
              "      <td id=\"T_8ad92_row13_col0\" class=\"data row13 col0\" >f13f8d295c8e89f01d2c158ce967e1b72158299d</td>\n",
              "      <td id=\"T_8ad92_row13_col1\" class=\"data row13 col1\" >0.984100</td>\n",
              "    </tr>\n",
              "    <tr>\n",
              "      <th id=\"T_8ad92_level0_row14\" class=\"row_heading level0 row14\" >14</th>\n",
              "      <td id=\"T_8ad92_row14_col0\" class=\"data row14 col0\" >a369b58fe8982bdc14da75ec962b958d62600415</td>\n",
              "      <td id=\"T_8ad92_row14_col1\" class=\"data row14 col1\" >0.979800</td>\n",
              "    </tr>\n",
              "    <tr>\n",
              "      <th id=\"T_8ad92_level0_row15\" class=\"row_heading level0 row15\" >15</th>\n",
              "      <td id=\"T_8ad92_row15_col0\" class=\"data row15 col0\" >cbab5b7028892966ecfceda055b63f0654f3dae0</td>\n",
              "      <td id=\"T_8ad92_row15_col1\" class=\"data row15 col1\" >0.227700</td>\n",
              "    </tr>\n",
              "    <tr>\n",
              "      <th id=\"T_8ad92_level0_row16\" class=\"row_heading level0 row16\" >16</th>\n",
              "      <td id=\"T_8ad92_row16_col0\" class=\"data row16 col0\" >e0c26f1fa6f1e51822d0f496e899d9c415050dc9</td>\n",
              "      <td id=\"T_8ad92_row16_col1\" class=\"data row16 col1\" >0.353000</td>\n",
              "    </tr>\n",
              "    <tr>\n",
              "      <th id=\"T_8ad92_level0_row17\" class=\"row_heading level0 row17\" >17</th>\n",
              "      <td id=\"T_8ad92_row17_col0\" class=\"data row17 col0\" >1e5554f2f5736cc202aa4a4c074fc32ff8e20232</td>\n",
              "      <td id=\"T_8ad92_row17_col1\" class=\"data row17 col1\" >0.220100</td>\n",
              "    </tr>\n",
              "    <tr>\n",
              "      <th id=\"T_8ad92_level0_row18\" class=\"row_heading level0 row18\" >18</th>\n",
              "      <td id=\"T_8ad92_row18_col0\" class=\"data row18 col0\" >1167fd2c4ccb0b0a3ed2feb772f43f8b3043d5ee</td>\n",
              "      <td id=\"T_8ad92_row18_col1\" class=\"data row18 col1\" >0.801800</td>\n",
              "    </tr>\n",
              "    <tr>\n",
              "      <th id=\"T_8ad92_level0_row19\" class=\"row_heading level0 row19\" >19</th>\n",
              "      <td id=\"T_8ad92_row19_col0\" class=\"data row19 col0\" >a997af4e3f091e6c6714f475a5873a655ef1614e</td>\n",
              "      <td id=\"T_8ad92_row19_col1\" class=\"data row19 col1\" >0.455300</td>\n",
              "    </tr>\n",
              "    <tr>\n",
              "      <th id=\"T_8ad92_level0_row20\" class=\"row_heading level0 row20\" >20</th>\n",
              "      <td id=\"T_8ad92_row20_col0\" class=\"data row20 col0\" >8e102049a7ee79dcdc1bf8834aef414ac3709a41</td>\n",
              "      <td id=\"T_8ad92_row20_col1\" class=\"data row20 col1\" >0.983400</td>\n",
              "    </tr>\n",
              "    <tr>\n",
              "      <th id=\"T_8ad92_level0_row21\" class=\"row_heading level0 row21\" >21</th>\n",
              "      <td id=\"T_8ad92_row21_col0\" class=\"data row21 col0\" >8d4a7a727608bd33c738ad9e30f55d173e5728f0</td>\n",
              "      <td id=\"T_8ad92_row21_col1\" class=\"data row21 col1\" >0.837500</td>\n",
              "    </tr>\n",
              "    <tr>\n",
              "      <th id=\"T_8ad92_level0_row22\" class=\"row_heading level0 row22\" >22</th>\n",
              "      <td id=\"T_8ad92_row22_col0\" class=\"data row22 col0\" >8f94ceb0431b992c53eeefed9255695917aa7733</td>\n",
              "      <td id=\"T_8ad92_row22_col1\" class=\"data row22 col1\" >0.972700</td>\n",
              "    </tr>\n",
              "    <tr>\n",
              "      <th id=\"T_8ad92_level0_row23\" class=\"row_heading level0 row23\" >23</th>\n",
              "      <td id=\"T_8ad92_row23_col0\" class=\"data row23 col0\" >2d07aecaae1f7cd3b6afd241e5eb9c68d583f043</td>\n",
              "      <td id=\"T_8ad92_row23_col1\" class=\"data row23 col1\" >0.248100</td>\n",
              "    </tr>\n",
              "    <tr>\n",
              "      <th id=\"T_8ad92_level0_row24\" class=\"row_heading level0 row24\" >24</th>\n",
              "      <td id=\"T_8ad92_row24_col0\" class=\"data row24 col0\" >256f30b4d4937deef713c26f89d09f35f928b3c0</td>\n",
              "      <td id=\"T_8ad92_row24_col1\" class=\"data row24 col1\" >0.985200</td>\n",
              "    </tr>\n",
              "    <tr>\n",
              "      <th id=\"T_8ad92_level0_row25\" class=\"row_heading level0 row25\" >25</th>\n",
              "      <td id=\"T_8ad92_row25_col0\" class=\"data row25 col0\" >65c17a87e5e2f06ec7aff7e3e940d0c41f286137</td>\n",
              "      <td id=\"T_8ad92_row25_col1\" class=\"data row25 col1\" >0.290800</td>\n",
              "    </tr>\n",
              "    <tr>\n",
              "      <th id=\"T_8ad92_level0_row26\" class=\"row_heading level0 row26\" >26</th>\n",
              "      <td id=\"T_8ad92_row26_col0\" class=\"data row26 col0\" >61cd48d955413358832cd6787d1da19b82d1d824</td>\n",
              "      <td id=\"T_8ad92_row26_col1\" class=\"data row26 col1\" >0.981600</td>\n",
              "    </tr>\n",
              "    <tr>\n",
              "      <th id=\"T_8ad92_level0_row27\" class=\"row_heading level0 row27\" >27</th>\n",
              "      <td id=\"T_8ad92_row27_col0\" class=\"data row27 col0\" >302284a3fc8fec9a465645f7601b1b2968deefca</td>\n",
              "      <td id=\"T_8ad92_row27_col1\" class=\"data row27 col1\" >0.862900</td>\n",
              "    </tr>\n",
              "    <tr>\n",
              "      <th id=\"T_8ad92_level0_row28\" class=\"row_heading level0 row28\" >28</th>\n",
              "      <td id=\"T_8ad92_row28_col0\" class=\"data row28 col0\" >cc3bfa8581c8aec6f6faba274e0dba8b66c7286c</td>\n",
              "      <td id=\"T_8ad92_row28_col1\" class=\"data row28 col1\" >0.980900</td>\n",
              "    </tr>\n",
              "    <tr>\n",
              "      <th id=\"T_8ad92_level0_row29\" class=\"row_heading level0 row29\" >29</th>\n",
              "      <td id=\"T_8ad92_row29_col0\" class=\"data row29 col0\" >48740663f1c1a24f68f37fc3f0f1f6da82d2194c</td>\n",
              "      <td id=\"T_8ad92_row29_col1\" class=\"data row29 col1\" >0.223900</td>\n",
              "    </tr>\n",
              "    <tr>\n",
              "      <th id=\"T_8ad92_level0_row30\" class=\"row_heading level0 row30\" >30</th>\n",
              "      <td id=\"T_8ad92_row30_col0\" class=\"data row30 col0\" >d69728e8a6d52dabbf30d6819a0871dc1c9453ac</td>\n",
              "      <td id=\"T_8ad92_row30_col1\" class=\"data row30 col1\" >0.972300</td>\n",
              "    </tr>\n",
              "    <tr>\n",
              "      <th id=\"T_8ad92_level0_row31\" class=\"row_heading level0 row31\" >31</th>\n",
              "      <td id=\"T_8ad92_row31_col0\" class=\"data row31 col0\" >11154613a7a71606dd2d38f4cbf8a0d2ffa71243</td>\n",
              "      <td id=\"T_8ad92_row31_col1\" class=\"data row31 col1\" >0.986300</td>\n",
              "    </tr>\n",
              "    <tr>\n",
              "      <th id=\"T_8ad92_level0_row32\" class=\"row_heading level0 row32\" >32</th>\n",
              "      <td id=\"T_8ad92_row32_col0\" class=\"data row32 col0\" >9669c2aea09759159caa1025d79e82839c80e2b4</td>\n",
              "      <td id=\"T_8ad92_row32_col1\" class=\"data row32 col1\" >0.989000</td>\n",
              "    </tr>\n",
              "    <tr>\n",
              "      <th id=\"T_8ad92_level0_row33\" class=\"row_heading level0 row33\" >33</th>\n",
              "      <td id=\"T_8ad92_row33_col0\" class=\"data row33 col0\" >f14bb2c31d7e54f794c2d139be87de7a79996c9b</td>\n",
              "      <td id=\"T_8ad92_row33_col1\" class=\"data row33 col1\" >0.248500</td>\n",
              "    </tr>\n",
              "    <tr>\n",
              "      <th id=\"T_8ad92_level0_row34\" class=\"row_heading level0 row34\" >34</th>\n",
              "      <td id=\"T_8ad92_row34_col0\" class=\"data row34 col0\" >7922d811caf4eda400bbdce18e564faced784363</td>\n",
              "      <td id=\"T_8ad92_row34_col1\" class=\"data row34 col1\" >0.219400</td>\n",
              "    </tr>\n",
              "    <tr>\n",
              "      <th id=\"T_8ad92_level0_row35\" class=\"row_heading level0 row35\" >35</th>\n",
              "      <td id=\"T_8ad92_row35_col0\" class=\"data row35 col0\" >e93feda07c620ff5cd6abff6734ce757580f75f5</td>\n",
              "      <td id=\"T_8ad92_row35_col1\" class=\"data row35 col1\" >0.207900</td>\n",
              "    </tr>\n",
              "    <tr>\n",
              "      <th id=\"T_8ad92_level0_row36\" class=\"row_heading level0 row36\" >36</th>\n",
              "      <td id=\"T_8ad92_row36_col0\" class=\"data row36 col0\" >471bacaf1b1bef9a2f8bb128a8c4a17f8ea675bf</td>\n",
              "      <td id=\"T_8ad92_row36_col1\" class=\"data row36 col1\" >0.242600</td>\n",
              "    </tr>\n",
              "    <tr>\n",
              "      <th id=\"T_8ad92_level0_row37\" class=\"row_heading level0 row37\" >37</th>\n",
              "      <td id=\"T_8ad92_row37_col0\" class=\"data row37 col0\" >9456a81ec516ef7d252880df87380ffdde73d627</td>\n",
              "      <td id=\"T_8ad92_row37_col1\" class=\"data row37 col1\" >0.984000</td>\n",
              "    </tr>\n",
              "    <tr>\n",
              "      <th id=\"T_8ad92_level0_row38\" class=\"row_heading level0 row38\" >38</th>\n",
              "      <td id=\"T_8ad92_row38_col0\" class=\"data row38 col0\" >35436330faf221f4ccdd7a70c28510acd0ddf8f8</td>\n",
              "      <td id=\"T_8ad92_row38_col1\" class=\"data row38 col1\" >0.223500</td>\n",
              "    </tr>\n",
              "    <tr>\n",
              "      <th id=\"T_8ad92_level0_row39\" class=\"row_heading level0 row39\" >39</th>\n",
              "      <td id=\"T_8ad92_row39_col0\" class=\"data row39 col0\" >96fb7db976ef30e2bd9c65e9657b7c7a61e7eee4</td>\n",
              "      <td id=\"T_8ad92_row39_col1\" class=\"data row39 col1\" >0.977000</td>\n",
              "    </tr>\n",
              "    <tr>\n",
              "      <th id=\"T_8ad92_level0_row40\" class=\"row_heading level0 row40\" >40</th>\n",
              "      <td id=\"T_8ad92_row40_col0\" class=\"data row40 col0\" >bc56da7d72c697b30abb6d563b4aa0797a8e47aa</td>\n",
              "      <td id=\"T_8ad92_row40_col1\" class=\"data row40 col1\" >0.887400</td>\n",
              "    </tr>\n",
              "    <tr>\n",
              "      <th id=\"T_8ad92_level0_row41\" class=\"row_heading level0 row41\" >41</th>\n",
              "      <td id=\"T_8ad92_row41_col0\" class=\"data row41 col0\" >5d3ab570fb0955bf587eddb16cc2bc7501f835f2</td>\n",
              "      <td id=\"T_8ad92_row41_col1\" class=\"data row41 col1\" >0.968700</td>\n",
              "    </tr>\n",
              "    <tr>\n",
              "      <th id=\"T_8ad92_level0_row42\" class=\"row_heading level0 row42\" >42</th>\n",
              "      <td id=\"T_8ad92_row42_col0\" class=\"data row42 col0\" >775756dc50571ab3e6bb3c79dc1c8a4ee57d18f2</td>\n",
              "      <td id=\"T_8ad92_row42_col1\" class=\"data row42 col1\" >0.219700</td>\n",
              "    </tr>\n",
              "    <tr>\n",
              "      <th id=\"T_8ad92_level0_row43\" class=\"row_heading level0 row43\" >43</th>\n",
              "      <td id=\"T_8ad92_row43_col0\" class=\"data row43 col0\" >5c3002d79e7dd5c3e2e96df26be4be2631e4f5b3</td>\n",
              "      <td id=\"T_8ad92_row43_col1\" class=\"data row43 col1\" >0.279800</td>\n",
              "    </tr>\n",
              "    <tr>\n",
              "      <th id=\"T_8ad92_level0_row44\" class=\"row_heading level0 row44\" >44</th>\n",
              "      <td id=\"T_8ad92_row44_col0\" class=\"data row44 col0\" >63c89a5bb1676d69ee8932154632865700e90de5</td>\n",
              "      <td id=\"T_8ad92_row44_col1\" class=\"data row44 col1\" >0.985400</td>\n",
              "    </tr>\n",
              "    <tr>\n",
              "      <th id=\"T_8ad92_level0_row45\" class=\"row_heading level0 row45\" >45</th>\n",
              "      <td id=\"T_8ad92_row45_col0\" class=\"data row45 col0\" >33e4047803c5dbfe2cd0af9ca86529a31f1a34cc</td>\n",
              "      <td id=\"T_8ad92_row45_col1\" class=\"data row45 col1\" >0.982900</td>\n",
              "    </tr>\n",
              "    <tr>\n",
              "      <th id=\"T_8ad92_level0_row46\" class=\"row_heading level0 row46\" >46</th>\n",
              "      <td id=\"T_8ad92_row46_col0\" class=\"data row46 col0\" >31680cafe154ccc5680b152ee843337a9483cf77</td>\n",
              "      <td id=\"T_8ad92_row46_col1\" class=\"data row46 col1\" >0.349600</td>\n",
              "    </tr>\n",
              "    <tr>\n",
              "      <th id=\"T_8ad92_level0_row47\" class=\"row_heading level0 row47\" >47</th>\n",
              "      <td id=\"T_8ad92_row47_col0\" class=\"data row47 col0\" >8b0140dbdce869bd1f06def5e837c88c8944f6c7</td>\n",
              "      <td id=\"T_8ad92_row47_col1\" class=\"data row47 col1\" >0.964900</td>\n",
              "    </tr>\n",
              "    <tr>\n",
              "      <th id=\"T_8ad92_level0_row48\" class=\"row_heading level0 row48\" >48</th>\n",
              "      <td id=\"T_8ad92_row48_col0\" class=\"data row48 col0\" >49e0b71a05f5f02628df51eac0dbf6e24c07af4e</td>\n",
              "      <td id=\"T_8ad92_row48_col1\" class=\"data row48 col1\" >0.980300</td>\n",
              "    </tr>\n",
              "    <tr>\n",
              "      <th id=\"T_8ad92_level0_row49\" class=\"row_heading level0 row49\" >49</th>\n",
              "      <td id=\"T_8ad92_row49_col0\" class=\"data row49 col0\" >c11b3549c49c1c58af2d6b7e2ed8e4f929ba4123</td>\n",
              "      <td id=\"T_8ad92_row49_col1\" class=\"data row49 col1\" >0.970500</td>\n",
              "    </tr>\n",
              "    <tr>\n",
              "      <th id=\"T_8ad92_level0_row50\" class=\"row_heading level0 row50\" >50</th>\n",
              "      <td id=\"T_8ad92_row50_col0\" class=\"data row50 col0\" >96fb7db976ef30e2bd9c65e9657b7c7a61e7eee4</td>\n",
              "      <td id=\"T_8ad92_row50_col1\" class=\"data row50 col1\" >0.975700</td>\n",
              "    </tr>\n",
              "    <tr>\n",
              "      <th id=\"T_8ad92_level0_row51\" class=\"row_heading level0 row51\" >51</th>\n",
              "      <td id=\"T_8ad92_row51_col0\" class=\"data row51 col0\" >cb1fda9f59b2496fefae0cc10d78f2ec958be75a</td>\n",
              "      <td id=\"T_8ad92_row51_col1\" class=\"data row51 col1\" >0.971200</td>\n",
              "    </tr>\n",
              "    <tr>\n",
              "      <th id=\"T_8ad92_level0_row52\" class=\"row_heading level0 row52\" >52</th>\n",
              "      <td id=\"T_8ad92_row52_col0\" class=\"data row52 col0\" >4875099993ba2b2cbbc6146a115a08680bac4b9e</td>\n",
              "      <td id=\"T_8ad92_row52_col1\" class=\"data row52 col1\" >0.255500</td>\n",
              "    </tr>\n",
              "    <tr>\n",
              "      <th id=\"T_8ad92_level0_row53\" class=\"row_heading level0 row53\" >53</th>\n",
              "      <td id=\"T_8ad92_row53_col0\" class=\"data row53 col0\" >726c0367179d16559557940ba6424770f4f8970a</td>\n",
              "      <td id=\"T_8ad92_row53_col1\" class=\"data row53 col1\" >0.237500</td>\n",
              "    </tr>\n",
              "    <tr>\n",
              "      <th id=\"T_8ad92_level0_row54\" class=\"row_heading level0 row54\" >54</th>\n",
              "      <td id=\"T_8ad92_row54_col0\" class=\"data row54 col0\" >1e386fe508c3805d515f0298419f0ca21af8546e</td>\n",
              "      <td id=\"T_8ad92_row54_col1\" class=\"data row54 col1\" >0.173600</td>\n",
              "    </tr>\n",
              "    <tr>\n",
              "      <th id=\"T_8ad92_level0_row55\" class=\"row_heading level0 row55\" >55</th>\n",
              "      <td id=\"T_8ad92_row55_col0\" class=\"data row55 col0\" >1bd9680dbc845d92f623aee22bd288e1a29bf2cd</td>\n",
              "      <td id=\"T_8ad92_row55_col1\" class=\"data row55 col1\" >0.875600</td>\n",
              "    </tr>\n",
              "    <tr>\n",
              "      <th id=\"T_8ad92_level0_row56\" class=\"row_heading level0 row56\" >56</th>\n",
              "      <td id=\"T_8ad92_row56_col0\" class=\"data row56 col0\" >34f48ed30614b66e860a0c97f7b82a6a5b5caea2</td>\n",
              "      <td id=\"T_8ad92_row56_col1\" class=\"data row56 col1\" >0.979800</td>\n",
              "    </tr>\n",
              "    <tr>\n",
              "      <th id=\"T_8ad92_level0_row57\" class=\"row_heading level0 row57\" >57</th>\n",
              "      <td id=\"T_8ad92_row57_col0\" class=\"data row57 col0\" >92db9fca120023847caa50ea5a136f1eff7c5124</td>\n",
              "      <td id=\"T_8ad92_row57_col1\" class=\"data row57 col1\" >0.991500</td>\n",
              "    </tr>\n",
              "    <tr>\n",
              "      <th id=\"T_8ad92_level0_row58\" class=\"row_heading level0 row58\" >58</th>\n",
              "      <td id=\"T_8ad92_row58_col0\" class=\"data row58 col0\" >52e8ce029c4b1e173268c2cfe4f8622c79a356a8</td>\n",
              "      <td id=\"T_8ad92_row58_col1\" class=\"data row58 col1\" >0.985900</td>\n",
              "    </tr>\n",
              "    <tr>\n",
              "      <th id=\"T_8ad92_level0_row59\" class=\"row_heading level0 row59\" >59</th>\n",
              "      <td id=\"T_8ad92_row59_col0\" class=\"data row59 col0\" >a938fdf4ccd1af64da359b356a764d0a10536602</td>\n",
              "      <td id=\"T_8ad92_row59_col1\" class=\"data row59 col1\" >0.989900</td>\n",
              "    </tr>\n",
              "    <tr>\n",
              "      <th id=\"T_8ad92_level0_row60\" class=\"row_heading level0 row60\" >60</th>\n",
              "      <td id=\"T_8ad92_row60_col0\" class=\"data row60 col0\" >b77cd5d5a9c3a1f3b74e6dd8cd9c9e9ef07db954</td>\n",
              "      <td id=\"T_8ad92_row60_col1\" class=\"data row60 col1\" >0.142400</td>\n",
              "    </tr>\n",
              "    <tr>\n",
              "      <th id=\"T_8ad92_level0_row61\" class=\"row_heading level0 row61\" >61</th>\n",
              "      <td id=\"T_8ad92_row61_col0\" class=\"data row61 col0\" >402d22ab574b5439770721214c604f8275af0867</td>\n",
              "      <td id=\"T_8ad92_row61_col1\" class=\"data row61 col1\" >0.232100</td>\n",
              "    </tr>\n",
              "    <tr>\n",
              "      <th id=\"T_8ad92_level0_row62\" class=\"row_heading level0 row62\" >62</th>\n",
              "      <td id=\"T_8ad92_row62_col0\" class=\"data row62 col0\" >821b0e0fcbdc144ae4c223c7c9291727e2413485</td>\n",
              "      <td id=\"T_8ad92_row62_col1\" class=\"data row62 col1\" >0.972500</td>\n",
              "    </tr>\n",
              "    <tr>\n",
              "      <th id=\"T_8ad92_level0_row63\" class=\"row_heading level0 row63\" >63</th>\n",
              "      <td id=\"T_8ad92_row63_col0\" class=\"data row63 col0\" >23c94c578e1447e6f9623113f22b08411cd54781</td>\n",
              "      <td id=\"T_8ad92_row63_col1\" class=\"data row63 col1\" >0.954800</td>\n",
              "    </tr>\n",
              "    <tr>\n",
              "      <th id=\"T_8ad92_level0_row64\" class=\"row_heading level0 row64\" >64</th>\n",
              "      <td id=\"T_8ad92_row64_col0\" class=\"data row64 col0\" >8d5c85916881e8a965684b3b185562a93043728a</td>\n",
              "      <td id=\"T_8ad92_row64_col1\" class=\"data row64 col1\" >0.234600</td>\n",
              "    </tr>\n",
              "    <tr>\n",
              "      <th id=\"T_8ad92_level0_row65\" class=\"row_heading level0 row65\" >65</th>\n",
              "      <td id=\"T_8ad92_row65_col0\" class=\"data row65 col0\" >779cd3ec879d82b492104d258f039a63483a7e2f</td>\n",
              "      <td id=\"T_8ad92_row65_col1\" class=\"data row65 col1\" >0.966000</td>\n",
              "    </tr>\n",
              "    <tr>\n",
              "      <th id=\"T_8ad92_level0_row66\" class=\"row_heading level0 row66\" >66</th>\n",
              "      <td id=\"T_8ad92_row66_col0\" class=\"data row66 col0\" >3bb40b8a29fbd7b47011eb7e3d7343c57c2295e4</td>\n",
              "      <td id=\"T_8ad92_row66_col1\" class=\"data row66 col1\" >0.227900</td>\n",
              "    </tr>\n",
              "    <tr>\n",
              "      <th id=\"T_8ad92_level0_row67\" class=\"row_heading level0 row67\" >67</th>\n",
              "      <td id=\"T_8ad92_row67_col0\" class=\"data row67 col0\" >c59d51061fed4a44422d97770a0228af1221af8a</td>\n",
              "      <td id=\"T_8ad92_row67_col1\" class=\"data row67 col1\" >0.800800</td>\n",
              "    </tr>\n",
              "    <tr>\n",
              "      <th id=\"T_8ad92_level0_row68\" class=\"row_heading level0 row68\" >68</th>\n",
              "      <td id=\"T_8ad92_row68_col0\" class=\"data row68 col0\" >38d8c718b0cbc2bb15e31f117035c044e8b6099c</td>\n",
              "      <td id=\"T_8ad92_row68_col1\" class=\"data row68 col1\" >0.790900</td>\n",
              "    </tr>\n",
              "    <tr>\n",
              "      <th id=\"T_8ad92_level0_row69\" class=\"row_heading level0 row69\" >69</th>\n",
              "      <td id=\"T_8ad92_row69_col0\" class=\"data row69 col0\" >8c493361e54504c07e18385a60a1d27eb5329dde</td>\n",
              "      <td id=\"T_8ad92_row69_col1\" class=\"data row69 col1\" >0.962700</td>\n",
              "    </tr>\n",
              "    <tr>\n",
              "      <th id=\"T_8ad92_level0_row70\" class=\"row_heading level0 row70\" >70</th>\n",
              "      <td id=\"T_8ad92_row70_col0\" class=\"data row70 col0\" >9f105dbd738e1c449ccbc60f38ba59208e296e34</td>\n",
              "      <td id=\"T_8ad92_row70_col1\" class=\"data row70 col1\" >0.975200</td>\n",
              "    </tr>\n",
              "  </tbody>\n",
              "</table>\n",
              "</div>"
            ],
            "text/plain": [
              "<IPython.core.display.HTML object>"
            ]
          },
          "metadata": {},
          "output_type": "display_data"
        }
      ],
      "source": [
        "from IPython.display import display\n",
        "from IPython.core.display import HTML\n",
        "\n",
        "df = nb_helper.get_search_csv(output_folder)\n",
        "df = df[['archid', 'AmlTrainingValAccuracy']]\n",
        "\n",
        "csv_as_html = nb_helper.get_csv_as_stylized_html(df)\n",
        "display(HTML(csv_as_html))"
      ]
    },
    {
      "attachments": {},
      "cell_type": "markdown",
      "metadata": {},
      "source": [
        "## Test ONNX Runtime Inference on the Best Model\n",
        "\n",
        "When the search pipeline completes you should have a `models.json` file in the experiment_name output folder and you can use that to find the most accurate model and run it through the ONNX runtime to see if the ONNX inference gets the same accuracy."
      ]
    },
    {
      "cell_type": "code",
      "execution_count": 14,
      "metadata": {},
      "outputs": [
        {
          "name": "stdout",
          "output_type": "stream",
          "text": [
            "The top model is id_ea147000_e08a_4ff6_b3a9_e1e1a9f1a211 with accuracy 0.9907000064849854 and architecture nb_layers=7, kernel_size=5, hidden_dim=64\n"
          ]
        }
      ],
      "source": [
        "# find the top model in the json results.\n",
        "filename = os.path.join(output_folder, \"models.json\")\n",
        "best_of_the_best = None\n",
        "top_accuracy = -1\n",
        "row = None\n",
        "if not os.path.isfile(filename):\n",
        "    raise Exception(f\"Could not find {filename} file. Please wait for job to finish.\")\n",
        "\n",
        "results = json.load(open(filename, \"r\"))\n",
        "models = results['models']\n",
        "for a in models:\n",
        "    if type(a) is dict and 'val_acc' in a:\n",
        "        val_acc = a['val_acc']\n",
        "        if val_acc > top_accuracy:\n",
        "            top_accuracy = val_acc\n",
        "            best_of_the_best = a['id']\n",
        "            row = a\n",
        "\n",
        "model = MyModel(ArchConfig(row))\n",
        "\n",
        "arch = f\"nb_layers={model.nb_layers}, kernel_size={model.kernel_size}, hidden_dim={model.hidden_dim}\"\n",
        "print(f\"The top model is {best_of_the_best} with accuracy {top_accuracy} and architecture {arch}\")\n",
        "\n",
        "blob_path = root_folder + '/' + best_of_the_best\n",
        "model_output = os.path.join(output_folder, 'top_model')\n",
        "get_results(store, blob_path, model_output)\n",
        "\n",
        "model_path = os.path.join(model_output, 'model.onnx')\n"
      ]
    },
    {
      "cell_type": "code",
      "execution_count": 15,
      "metadata": {},
      "outputs": [
        {
          "name": "stdout",
          "output_type": "stream",
          "text": [
            "data has shape: torch.Size([28, 28])\n"
          ]
        },
        {
          "data": {
            "image/png": "[encoded data removed]",
            "text/plain": [
              "<Figure size 200x200 with 1 Axes>"
            ]
          },
          "metadata": {},
          "output_type": "display_data"
        },
        {
          "name": "stdout",
          "output_type": "stream",
          "text": [
            "input: input, [1, 1, 28, 28], tensor(float)\n",
            "Testing 10000 rows\n"
          ]
        },
        {
          "name": "stderr",
          "output_type": "stream",
          "text": [
            "c:\\anaconda3\\envs\\archai\\lib\\site-packages\\torchvision\\datasets\\mnist.py:65: UserWarning: train_labels has been renamed targets\n",
            "  warnings.warn(\"train_labels has been renamed targets\")\n"
          ]
        },
        {
          "name": "stdout",
          "output_type": "stream",
          "text": [
            "Failed 93 out of 10000 rows\n",
            "Inference pass rate is  99.07 %.\n",
            "How does this compare with the training validation accuracy of 0.9907000064849854\n",
            "Success! The model is working as expected.\n"
          ]
        }
      ],
      "source": [
        "# Great, now let's test if this model works as advertised.\n",
        "from archai.datasets.cv.mnist_dataset_provider import MnistDatasetProvider\n",
        "import onnxruntime as ort\n",
        "import numpy as np\n",
        "\n",
        "dataset_provider = MnistDatasetProvider()\n",
        "val_data = dataset_provider.get_val_dataset()\n",
        "count = val_data.data.shape[0]\n",
        "test = np.random.choice(count, 1)[0]\n",
        "data = val_data.data[test]\n",
        "\n",
        "import matplotlib.pyplot as plt\n",
        "\n",
        "# check what the images look like.\n",
        "plt.figure(figsize=(2,2))\n",
        "plt.imshow(data, cmap='gray')\n",
        "print(f'data has shape: {data.shape}')\n",
        "plt.axis('off')\n",
        "plt.show()\n",
        "\n",
        "# Now run the ONNX runtime on this the validation set.\n",
        "# You can change this to `CUDAExecutionProvider` if you have a GPU and have\n",
        "# installed the CUDA runtime.\n",
        "ort_sess = ort.InferenceSession(model_path, providers=['CPUExecutionProvider'])\n",
        "for i in ort_sess.get_inputs():\n",
        "    print(f'input: {i.name}, {i.shape}, {i.type}')\n",
        "    \n",
        "print(f'Testing {count} rows')\n",
        "failed = 0\n",
        "for i in range(val_data.data.shape[0]):\n",
        "    data = val_data.data[i]    \n",
        "    expected = int(val_data.train_labels[i])\n",
        "\n",
        "    while len(data.shape) < 4:\n",
        "        data = np.expand_dims(data, axis=0)\n",
        "    outputs = ort_sess.run(None, {'input': data.astype(np.float32) / 255.0})\n",
        "    result = outputs[0]\n",
        "    index = np.argmax(result)\n",
        "    label = val_data.classes[index]\n",
        "    if expected != index:\n",
        "        # print(f'### Failed: {expected} and got {label}')\n",
        "        failed += 1\n",
        "          \n",
        "rate = (count - failed) * 100 / count\n",
        "print(f\"Failed {failed} out of {count} rows\")\n",
        "print(f'Inference pass rate is  {rate} %.')\n",
        "print(f'How does this compare with the training validation accuracy of {top_accuracy}')\n",
        "if np.isclose(rate, top_accuracy* 100, atol=0.1):\n",
        "    print('Success! The model is working as expected.')\n",
        "else:\n",
        "    print('The onnx runtime is giving different results.')\n"
      ]
    }
  ],
  "metadata": {
    "kernelspec": {
      "display_name": "archai",
      "language": "python",
      "name": "python3"
    },
    "language_info": {
      "codemirror_mode": {
        "name": "ipython",
        "version": 3
      },
      "file_extension": ".py",
      "mimetype": "text/x-python",
      "name": "python",
      "nbconvert_exporter": "python",
      "pygments_lexer": "ipython3",
      "version": "3.10.10"
    },
    "orig_nbformat": 4,
    "vscode": {
      "interpreter": {
        "hash": "799abcba35f70097d02fca042963180a03ec3451fe1b7671ac5d22383cd0232c"
      }
    }
  },
  "nbformat": 4,
  "nbformat_minor": 2
}
