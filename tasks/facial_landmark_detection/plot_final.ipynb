{
 "cells": [
  {
   "cell_type": "code",
   "execution_count": null,
   "metadata": {},
   "outputs": [],
   "source": [
    "import csv\n",
    "import matplotlib.pyplot as plt\n",
    "\n",
    "\n",
    "y_data = []\n",
    "y_name = 'onnx_latency (ms)'\n",
    "x_data = []\n",
    "x_name = 'Full training Validation Accuracy'\n",
    "with open('search_results_with_accuracy.csv', 'r') as csvfile:\n",
    "    reader = csv.DictReader(csvfile)\n",
    "    for row in reader:\n",
    "        if (len(row[x_name]) != 0):\n",
    "            x_data.append(float(row[x_name]))\n",
    "            y_data.append(float(row[y_name]))\n",
    "\n",
    "# Create plot\n",
    "fig, ax = plt.subplots()\n",
    "ax.plot(x_data, y_data, 'o', color='blue', markersize=5)\n",
    "\n",
    "# Set axis labels and title\n",
    "ax.set_xlabel(x_name)\n",
    "ax.set_ylabel(y_name)\n",
    "ax.set_title(f'{y_name} vs {x_name}')\n",
    "\n",
    "# Save plot to file\n",
    "plt.savefig(f'{y_name} vs {x_name}.png'.replace(' ', '_'))"
   ]
  }
 ],
 "metadata": {
  "kernelspec": {
   "display_name": "archai_face_landmark",
   "language": "python",
   "name": "python3"
  },
  "language_info": {
   "codemirror_mode": {
    "name": "ipython",
    "version": 3
   },
   "file_extension": ".py",
   "mimetype": "text/x-python",
   "name": "python",
   "nbconvert_exporter": "python",
   "pygments_lexer": "ipython3",
   "version": "3.7.16"
  },
  "orig_nbformat": 4
 },
 "nbformat": 4,
 "nbformat_minor": 2
}
